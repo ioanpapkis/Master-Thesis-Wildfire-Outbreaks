{
  "nbformat": 4,
  "nbformat_minor": 0,
  "metadata": {
    "colab": {
      "provenance": []
    },
    "kernelspec": {
      "name": "python3",
      "display_name": "Python 3"
    },
    "language_info": {
      "name": "python"
    }
  },
  "cells": [
    {
      "cell_type": "code",
      "source": [
        "import ee\n",
        "import geemap.core as geemap\n",
        "import pandas as pd"
      ],
      "metadata": {
        "id": "75oghqFMcEkG"
      },
      "execution_count": null,
      "outputs": []
    },
    {
      "cell_type": "code",
      "source": [
        "from google.colab import drive\n",
        "drive.mount('/content/drive')"
      ],
      "metadata": {
        "id": "MlSurjZcdK_n",
        "colab": {
          "base_uri": "https://localhost:8080/",
          "height": 34
        },
        "outputId": "7a80ba86-2219-443e-b196-6adad28f10c1"
      },
      "execution_count": null,
      "outputs": [
        {
          "output_type": "display_data",
          "data": {
            "text/plain": [
              "<IPython.core.display.HTML object>"
            ],
            "text/html": [
              "\n",
              "            <style>\n",
              "                .geemap-dark {\n",
              "                    --jp-widgets-color: white;\n",
              "                    --jp-widgets-label-color: white;\n",
              "                    --jp-ui-font-color1: white;\n",
              "                    --jp-layout-color2: #454545;\n",
              "                    background-color: #383838;\n",
              "                }\n",
              "\n",
              "                .geemap-dark .jupyter-button {\n",
              "                    --jp-layout-color3: #383838;\n",
              "                }\n",
              "\n",
              "                .geemap-colab {\n",
              "                    background-color: var(--colab-primary-surface-color, white);\n",
              "                }\n",
              "\n",
              "                .geemap-colab .jupyter-button {\n",
              "                    --jp-layout-color3: var(--colab-primary-surface-color, white);\n",
              "                }\n",
              "            </style>\n",
              "            "
            ]
          },
          "metadata": {}
        },
        {
          "output_type": "stream",
          "name": "stdout",
          "text": [
            "Mounted at /content/drive\n"
          ]
        }
      ]
    },
    {
      "cell_type": "code",
      "source": [
        "ee.Authenticate()"
      ],
      "metadata": {
        "colab": {
          "base_uri": "https://localhost:8080/",
          "height": 17
        },
        "id": "qS-yDHLmdEUg",
        "outputId": "38e3a692-205b-4822-b454-3ca17ba6b088"
      },
      "execution_count": null,
      "outputs": [
        {
          "output_type": "display_data",
          "data": {
            "text/plain": [
              "<IPython.core.display.HTML object>"
            ],
            "text/html": [
              "\n",
              "            <style>\n",
              "                .geemap-dark {\n",
              "                    --jp-widgets-color: white;\n",
              "                    --jp-widgets-label-color: white;\n",
              "                    --jp-ui-font-color1: white;\n",
              "                    --jp-layout-color2: #454545;\n",
              "                    background-color: #383838;\n",
              "                }\n",
              "\n",
              "                .geemap-dark .jupyter-button {\n",
              "                    --jp-layout-color3: #383838;\n",
              "                }\n",
              "\n",
              "                .geemap-colab {\n",
              "                    background-color: var(--colab-primary-surface-color, white);\n",
              "                }\n",
              "\n",
              "                .geemap-colab .jupyter-button {\n",
              "                    --jp-layout-color3: var(--colab-primary-surface-color, white);\n",
              "                }\n",
              "            </style>\n",
              "            "
            ]
          },
          "metadata": {}
        }
      ]
    },
    {
      "cell_type": "code",
      "execution_count": null,
      "metadata": {
        "colab": {
          "base_uri": "https://localhost:8080/",
          "height": 17
        },
        "id": "8f5liEHcb-w2",
        "outputId": "22f067ab-d77a-447c-97b7-1bb00e6f784a"
      },
      "outputs": [
        {
          "output_type": "display_data",
          "data": {
            "text/plain": [
              "<IPython.core.display.HTML object>"
            ],
            "text/html": [
              "\n",
              "            <style>\n",
              "                .geemap-dark {\n",
              "                    --jp-widgets-color: white;\n",
              "                    --jp-widgets-label-color: white;\n",
              "                    --jp-ui-font-color1: white;\n",
              "                    --jp-layout-color2: #454545;\n",
              "                    background-color: #383838;\n",
              "                }\n",
              "\n",
              "                .geemap-dark .jupyter-button {\n",
              "                    --jp-layout-color3: #383838;\n",
              "                }\n",
              "\n",
              "                .geemap-colab {\n",
              "                    background-color: var(--colab-primary-surface-color, white);\n",
              "                }\n",
              "\n",
              "                .geemap-colab .jupyter-button {\n",
              "                    --jp-layout-color3: var(--colab-primary-surface-color, white);\n",
              "                }\n",
              "            </style>\n",
              "            "
            ]
          },
          "metadata": {}
        }
      ],
      "source": [
        "ee.Initialize(project=\"\")"
      ]
    },
    {
      "cell_type": "markdown",
      "source": [
        "# ***Aspect and Slope Data***\n"
      ],
      "metadata": {
        "id": "3V_TKvXzd1mm"
      }
    },
    {
      "cell_type": "code",
      "source": [
        "coors.isnull().value_counts().sum()"
      ],
      "metadata": {
        "colab": {
          "base_uri": "https://localhost:8080/",
          "height": 34
        },
        "id": "YG5IXzMnR9Ne",
        "outputId": "b519c3e7-905a-4895-e936-f1b4b2792af7"
      },
      "execution_count": null,
      "outputs": [
        {
          "output_type": "display_data",
          "data": {
            "text/plain": [
              "<IPython.core.display.HTML object>"
            ],
            "text/html": [
              "\n",
              "            <style>\n",
              "                .geemap-dark {\n",
              "                    --jp-widgets-color: white;\n",
              "                    --jp-widgets-label-color: white;\n",
              "                    --jp-ui-font-color1: white;\n",
              "                    --jp-layout-color2: #454545;\n",
              "                    background-color: #383838;\n",
              "                }\n",
              "\n",
              "                .geemap-dark .jupyter-button {\n",
              "                    --jp-layout-color3: #383838;\n",
              "                }\n",
              "\n",
              "                .geemap-colab {\n",
              "                    background-color: var(--colab-primary-surface-color, white);\n",
              "                }\n",
              "\n",
              "                .geemap-colab .jupyter-button {\n",
              "                    --jp-layout-color3: var(--colab-primary-surface-color, white);\n",
              "                }\n",
              "            </style>\n",
              "            "
            ]
          },
          "metadata": {}
        },
        {
          "output_type": "execute_result",
          "data": {
            "text/plain": [
              "7534"
            ]
          },
          "metadata": {},
          "execution_count": 11
        }
      ]
    },
    {
      "cell_type": "code",
      "source": [
        "dataset = ee.Image('CGIAR/SRTM90_V4')\n",
        "elevation = dataset.select('elevation')\n",
        "slope = ee.Terrain.slope(elevation)\n",
        "\n",
        "m = geemap.Map()\n",
        "m.set_center(-112.8598, 36.2841, 10)\n",
        "m.add_layer(slope, {'min': 0, 'max': 60}, 'slope')\n",
        "m"
      ],
      "metadata": {
        "id": "qbgTiRGMacaw"
      },
      "execution_count": null,
      "outputs": []
    },
    {
      "cell_type": "code",
      "source": [
        "\n",
        "\n",
        "lat = coors[\"latitude\"]\n",
        "long = coors[\"longitude\"]\n",
        "\n",
        "def getSlope(latitude,longitude):\n",
        "  global aspect_data\n",
        "  global slope_data\n",
        "  # Load the Digital Elevation Model (DEM) data\n",
        "  dem = ee.Image('NASA/NASADEM_HGT/001').select('elevation')\n",
        "\n",
        "  slope_data = []\n",
        "  aspect_data=[]\n",
        "  try:\n",
        "    for x,y in zip(latitude, longitude):\n",
        "      roi = ee.Geometry.Point([y,x])\n",
        "\n",
        "      # Compute slope using the terrain algorithms\n",
        "      slope = ee.Terrain.slope(dem)\n",
        "\n",
        "      aspect = ee.Terrain.aspect(dem)\n",
        "\n",
        "      # Extract the slope values for the ROI\n",
        "      slope_values = slope.sample(region=roi, scale=30).first().get('slope').getInfo()\n",
        "      aspect_values = aspect.sample(region=roi, scale=30).first().get('aspect').getInfo()\n",
        "\n",
        "      #print(pd.DataFrame(zip([aspect],[slope])))\n",
        "      slope_data.append(slope_values)\n",
        "      aspect_data.append(aspect_values)\n",
        "  except Exception as e:\n",
        "      df_aspect = pd.DataFrame([aspect_data])\n",
        "      df_slope = pd.DataFrame([slope_data])\n",
        "      df_aspect.to_csv(\"aspect_data_1_miss.csv\")\n",
        "      df_slope.to_csv(\"slope_data_1_miss.csv\")\n",
        "      print(e)\n",
        "\n",
        "  df_aspect = pd.DataFrame([aspect_data])\n",
        "  df_slope = pd.DataFrame([slope_data])\n",
        "  df_aspect.to_csv(\"aspect_data_miss.csv\")\n",
        "  df_slope.to_csv(\"slope_data_miss.csv\")\n",
        "  return df_aspect,df_slope\n",
        "\n",
        "df_aspect_1,df_slope_1 = getSlope(lat,long)"
      ],
      "metadata": {
        "colab": {
          "base_uri": "https://localhost:8080/",
          "height": 836
        },
        "id": "wAWxjYRlalXc",
        "outputId": "954acb08-2e95-4528-a7d1-48cf718e0984"
      },
      "execution_count": null,
      "outputs": [
        {
          "output_type": "display_data",
          "data": {
            "text/plain": [
              "<IPython.core.display.HTML object>"
            ],
            "text/html": [
              "\n",
              "            <style>\n",
              "                .geemap-dark {\n",
              "                    --jp-widgets-color: white;\n",
              "                    --jp-widgets-label-color: white;\n",
              "                    --jp-ui-font-color1: white;\n",
              "                    --jp-layout-color2: #454545;\n",
              "                    background-color: #383838;\n",
              "                }\n",
              "\n",
              "                .geemap-dark .jupyter-button {\n",
              "                    --jp-layout-color3: #383838;\n",
              "                }\n",
              "\n",
              "                .geemap-colab {\n",
              "                    background-color: var(--colab-primary-surface-color, white);\n",
              "                }\n",
              "\n",
              "                .geemap-colab .jupyter-button {\n",
              "                    --jp-layout-color3: var(--colab-primary-surface-color, white);\n",
              "                }\n",
              "            </style>\n",
              "            "
            ]
          },
          "metadata": {}
        },
        {
          "output_type": "stream",
          "name": "stderr",
          "text": [
            "WARNING:googleapiclient.http:Sleeping 0.62 seconds before retry 1 of 5 for request: POST https://earthengine.googleapis.com/v1/projects/ee-johntrpzy/value:compute?prettyPrint=false&alt=json, after 502\n",
            "WARNING:googleapiclient.http:Sleeping 0.99 seconds before retry 1 of 5 for request: POST https://earthengine.googleapis.com/v1/projects/ee-johntrpzy/value:compute?prettyPrint=false&alt=json, after 502\n",
            "WARNING:googleapiclient.http:Sleeping 1.96 seconds before retry 1 of 5 for request: POST https://earthengine.googleapis.com/v1/projects/ee-johntrpzy/value:compute?prettyPrint=false&alt=json, after 502\n",
            "WARNING:googleapiclient.http:Sleeping 1.67 seconds before retry 1 of 5 for request: POST https://earthengine.googleapis.com/v1/projects/ee-johntrpzy/value:compute?prettyPrint=false&alt=json, after 502\n",
            "WARNING:googleapiclient.http:Sleeping 1.67 seconds before retry 1 of 5 for request: POST https://earthengine.googleapis.com/v1/projects/ee-johntrpzy/value:compute?prettyPrint=false&alt=json, after 502\n",
            "WARNING:googleapiclient.http:Sleeping 1.81 seconds before retry 1 of 5 for request: POST https://earthengine.googleapis.com/v1/projects/ee-johntrpzy/value:compute?prettyPrint=false&alt=json, after 502\n",
            "WARNING:googleapiclient.http:Sleeping 0.34 seconds before retry 1 of 5 for request: POST https://earthengine.googleapis.com/v1/projects/ee-johntrpzy/value:compute?prettyPrint=false&alt=json, after 502\n",
            "WARNING:googleapiclient.http:Sleeping 1.59 seconds before retry 1 of 5 for request: POST https://earthengine.googleapis.com/v1/projects/ee-johntrpzy/value:compute?prettyPrint=false&alt=json, after 502\n",
            "WARNING:googleapiclient.http:Sleeping 1.89 seconds before retry 1 of 5 for request: POST https://earthengine.googleapis.com/v1/projects/ee-johntrpzy/value:compute?prettyPrint=false&alt=json, after 502\n",
            "WARNING:googleapiclient.http:Sleeping 1.58 seconds before retry 1 of 5 for request: POST https://earthengine.googleapis.com/v1/projects/ee-johntrpzy/value:compute?prettyPrint=false&alt=json, after 502\n",
            "WARNING:googleapiclient.http:Sleeping 1.32 seconds before retry 1 of 5 for request: POST https://earthengine.googleapis.com/v1/projects/ee-johntrpzy/value:compute?prettyPrint=false&alt=json, after 503\n",
            "WARNING:googleapiclient.http:Sleeping 0.99 seconds before retry 1 of 5 for request: POST https://earthengine.googleapis.com/v1/projects/ee-johntrpzy/value:compute?prettyPrint=false&alt=json, after 503\n",
            "WARNING:googleapiclient.http:Sleeping 1.49 seconds before retry 1 of 5 for request: POST https://earthengine.googleapis.com/v1/projects/ee-johntrpzy/value:compute?prettyPrint=false&alt=json, after 502\n",
            "WARNING:googleapiclient.http:Sleeping 1.53 seconds before retry 1 of 5 for request: POST https://earthengine.googleapis.com/v1/projects/ee-johntrpzy/value:compute?prettyPrint=false&alt=json, after 502\n",
            "WARNING:googleapiclient.http:Sleeping 1.80 seconds before retry 1 of 5 for request: POST https://earthengine.googleapis.com/v1/projects/ee-johntrpzy/value:compute?prettyPrint=false&alt=json, after 502\n",
            "WARNING:googleapiclient.http:Sleeping 0.88 seconds before retry 1 of 5 for request: POST https://earthengine.googleapis.com/v1/projects/ee-johntrpzy/value:compute?prettyPrint=false&alt=json, after 502\n",
            "WARNING:googleapiclient.http:Sleeping 0.53 seconds before retry 1 of 5 for request: POST https://earthengine.googleapis.com/v1/projects/ee-johntrpzy/value:compute?prettyPrint=false&alt=json, after 502\n",
            "WARNING:googleapiclient.http:Sleeping 0.04 seconds before retry 1 of 5 for request: POST https://earthengine.googleapis.com/v1/projects/ee-johntrpzy/value:compute?prettyPrint=false&alt=json, after 502\n",
            "WARNING:googleapiclient.http:Sleeping 0.89 seconds before retry 1 of 5 for request: POST https://earthengine.googleapis.com/v1/projects/ee-johntrpzy/value:compute?prettyPrint=false&alt=json, after 502\n",
            "WARNING:googleapiclient.http:Sleeping 0.77 seconds before retry 1 of 5 for request: POST https://earthengine.googleapis.com/v1/projects/ee-johntrpzy/value:compute?prettyPrint=false&alt=json, after 502\n",
            "WARNING:googleapiclient.http:Sleeping 1.91 seconds before retry 1 of 5 for request: POST https://earthengine.googleapis.com/v1/projects/ee-johntrpzy/value:compute?prettyPrint=false&alt=json, after 503\n",
            "WARNING:googleapiclient.http:Sleeping 1.21 seconds before retry 1 of 5 for request: POST https://earthengine.googleapis.com/v1/projects/ee-johntrpzy/value:compute?prettyPrint=false&alt=json, after 502\n",
            "WARNING:googleapiclient.http:Sleeping 1.14 seconds before retry 1 of 5 for request: POST https://earthengine.googleapis.com/v1/projects/ee-johntrpzy/value:compute?prettyPrint=false&alt=json, after 502\n",
            "WARNING:googleapiclient.http:Sleeping 0.93 seconds before retry 1 of 5 for request: POST https://earthengine.googleapis.com/v1/projects/ee-johntrpzy/value:compute?prettyPrint=false&alt=json, after 502\n",
            "WARNING:googleapiclient.http:Sleeping 1.50 seconds before retry 1 of 5 for request: POST https://earthengine.googleapis.com/v1/projects/ee-johntrpzy/value:compute?prettyPrint=false&alt=json, after 502\n",
            "WARNING:googleapiclient.http:Sleeping 1.67 seconds before retry 1 of 5 for request: POST https://earthengine.googleapis.com/v1/projects/ee-johntrpzy/value:compute?prettyPrint=false&alt=json, after 502\n",
            "WARNING:googleapiclient.http:Sleeping 0.52 seconds before retry 1 of 5 for request: POST https://earthengine.googleapis.com/v1/projects/ee-johntrpzy/value:compute?prettyPrint=false&alt=json, after 502\n",
            "WARNING:googleapiclient.http:Sleeping 1.04 seconds before retry 1 of 5 for request: POST https://earthengine.googleapis.com/v1/projects/ee-johntrpzy/value:compute?prettyPrint=false&alt=json, after 502\n",
            "WARNING:googleapiclient.http:Sleeping 1.31 seconds before retry 1 of 5 for request: POST https://earthengine.googleapis.com/v1/projects/ee-johntrpzy/value:compute?prettyPrint=false&alt=json, after 502\n",
            "WARNING:googleapiclient.http:Sleeping 0.59 seconds before retry 1 of 5 for request: POST https://earthengine.googleapis.com/v1/projects/ee-johntrpzy/value:compute?prettyPrint=false&alt=json, after 502\n",
            "WARNING:googleapiclient.http:Sleeping 1.13 seconds before retry 1 of 5 for request: POST https://earthengine.googleapis.com/v1/projects/ee-johntrpzy/value:compute?prettyPrint=false&alt=json, after 502\n",
            "WARNING:googleapiclient.http:Sleeping 1.16 seconds before retry 1 of 5 for request: POST https://earthengine.googleapis.com/v1/projects/ee-johntrpzy/value:compute?prettyPrint=false&alt=json, after 502\n",
            "WARNING:googleapiclient.http:Sleeping 0.63 seconds before retry 1 of 5 for request: POST https://earthengine.googleapis.com/v1/projects/ee-johntrpzy/value:compute?prettyPrint=false&alt=json, after 502\n",
            "WARNING:googleapiclient.http:Sleeping 1.35 seconds before retry 1 of 5 for request: POST https://earthengine.googleapis.com/v1/projects/ee-johntrpzy/value:compute?prettyPrint=false&alt=json, after 502\n",
            "WARNING:googleapiclient.http:Sleeping 0.39 seconds before retry 1 of 5 for request: POST https://earthengine.googleapis.com/v1/projects/ee-johntrpzy/value:compute?prettyPrint=false&alt=json, after 502\n",
            "WARNING:googleapiclient.http:Sleeping 1.90 seconds before retry 1 of 5 for request: POST https://earthengine.googleapis.com/v1/projects/ee-johntrpzy/value:compute?prettyPrint=false&alt=json, after 502\n",
            "WARNING:googleapiclient.http:Sleeping 1.51 seconds before retry 1 of 5 for request: POST https://earthengine.googleapis.com/v1/projects/ee-johntrpzy/value:compute?prettyPrint=false&alt=json, after 502\n",
            "WARNING:googleapiclient.http:Sleeping 0.19 seconds before retry 1 of 5 for request: POST https://earthengine.googleapis.com/v1/projects/ee-johntrpzy/value:compute?prettyPrint=false&alt=json, after 502\n",
            "WARNING:googleapiclient.http:Sleeping 1.96 seconds before retry 1 of 5 for request: POST https://earthengine.googleapis.com/v1/projects/ee-johntrpzy/value:compute?prettyPrint=false&alt=json, after 502\n",
            "WARNING:googleapiclient.http:Sleeping 0.78 seconds before retry 1 of 5 for request: POST https://earthengine.googleapis.com/v1/projects/ee-johntrpzy/value:compute?prettyPrint=false&alt=json, after 502\n",
            "WARNING:googleapiclient.http:Sleeping 0.24 seconds before retry 1 of 5 for request: POST https://earthengine.googleapis.com/v1/projects/ee-johntrpzy/value:compute?prettyPrint=false&alt=json, after 502\n",
            "WARNING:googleapiclient.http:Sleeping 1.87 seconds before retry 1 of 5 for request: POST https://earthengine.googleapis.com/v1/projects/ee-johntrpzy/value:compute?prettyPrint=false&alt=json, after 502\n",
            "WARNING:googleapiclient.http:Sleeping 0.41 seconds before retry 1 of 5 for request: POST https://earthengine.googleapis.com/v1/projects/ee-johntrpzy/value:compute?prettyPrint=false&alt=json, after 502\n",
            "WARNING:googleapiclient.http:Sleeping 1.79 seconds before retry 1 of 5 for request: POST https://earthengine.googleapis.com/v1/projects/ee-johntrpzy/value:compute?prettyPrint=false&alt=json, after 502\n",
            "WARNING:googleapiclient.http:Sleeping 0.80 seconds before retry 1 of 5 for request: POST https://earthengine.googleapis.com/v1/projects/ee-johntrpzy/value:compute?prettyPrint=false&alt=json, after 502\n",
            "WARNING:googleapiclient.http:Sleeping 1.15 seconds before retry 1 of 5 for request: POST https://earthengine.googleapis.com/v1/projects/ee-johntrpzy/value:compute?prettyPrint=false&alt=json, after 502\n"
          ]
        }
      ]
    }
  ]
}