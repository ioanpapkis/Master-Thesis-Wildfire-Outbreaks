{
  "cells": [
    {
      "cell_type": "code",
      "execution_count": null,
      "metadata": {
        "id": "75oghqFMcEkG"
      },
      "outputs": [],
      "source": [
        "import ee\n",
        "import geemap.core as geemap\n",
        "import pandas as pd"
      ]
    },
    {
      "cell_type": "code",
      "execution_count": null,
      "metadata": {
        "colab": {
          "base_uri": "https://localhost:8080/",
          "height": 34
        },
        "id": "MlSurjZcdK_n",
        "outputId": "7a80ba86-2219-443e-b196-6adad28f10c1"
      },
      "outputs": [],
      "source": [
        "from google.colab import drive\n",
        "drive.mount('/content/drive')"
      ]
    },
    {
      "cell_type": "code",
      "execution_count": null,
      "metadata": {
        "colab": {
          "base_uri": "https://localhost:8080/",
          "height": 17
        },
        "id": "qS-yDHLmdEUg",
        "outputId": "38e3a692-205b-4822-b454-3ca17ba6b088"
      },
      "outputs": [],
      "source": [
        "ee.Authenticate()"
      ]
    },
    {
      "cell_type": "code",
      "execution_count": null,
      "metadata": {
        "colab": {
          "base_uri": "https://localhost:8080/",
          "height": 17
        },
        "id": "8f5liEHcb-w2",
        "outputId": "22f067ab-d77a-447c-97b7-1bb00e6f784a"
      },
      "outputs": [],
      "source": [
        "ee.Initialize(project=\"\")"
      ]
    },
    {
      "cell_type": "markdown",
      "metadata": {
        "id": "3V_TKvXzd1mm"
      },
      "source": [
        "# ***Aspect and Slope Data***\n"
      ]
    },
    {
      "cell_type": "code",
      "execution_count": null,
      "metadata": {
        "colab": {
          "base_uri": "https://localhost:8080/",
          "height": 34
        },
        "id": "YG5IXzMnR9Ne",
        "outputId": "b519c3e7-905a-4895-e936-f1b4b2792af7"
      },
      "outputs": [],
      "source": [
        "coors.isnull().value_counts().sum()"
      ]
    },
    {
      "cell_type": "code",
      "execution_count": null,
      "metadata": {
        "id": "qbgTiRGMacaw"
      },
      "outputs": [],
      "source": [
        "dataset = ee.Image('CGIAR/SRTM90_V4')\n",
        "elevation = dataset.select('elevation')\n",
        "slope = ee.Terrain.slope(elevation)\n",
        "\n",
        "m = geemap.Map()\n",
        "m.set_center(-112.8598, 36.2841, 10)\n",
        "m.add_layer(slope, {'min': 0, 'max': 60}, 'slope')\n",
        "m"
      ]
    },
    {
      "cell_type": "code",
      "execution_count": null,
      "metadata": {
        "colab": {
          "base_uri": "https://localhost:8080/",
          "height": 836
        },
        "id": "wAWxjYRlalXc",
        "outputId": "954acb08-2e95-4528-a7d1-48cf718e0984"
      },
      "outputs": [],
      "source": [
        "\n",
        "\n",
        "lat = coors[\"latitude\"]\n",
        "long = coors[\"longitude\"]\n",
        "\n",
        "def getSlope(latitude,longitude):\n",
        "  global aspect_data\n",
        "  global slope_data\n",
        "  # Load the Digital Elevation Model (DEM) data\n",
        "  dem = ee.Image('NASA/NASADEM_HGT/001').select('elevation')\n",
        "\n",
        "  slope_data = []\n",
        "  aspect_data=[]\n",
        "  try:\n",
        "    for x,y in zip(latitude, longitude):\n",
        "      roi = ee.Geometry.Point([y,x])\n",
        "\n",
        "      # Compute slope using the terrain algorithms\n",
        "      slope = ee.Terrain.slope(dem)\n",
        "\n",
        "      aspect = ee.Terrain.aspect(dem)\n",
        "\n",
        "      # Extract the slope values for the ROI\n",
        "      slope_values = slope.sample(region=roi, scale=30).first().get('slope').getInfo()\n",
        "      aspect_values = aspect.sample(region=roi, scale=30).first().get('aspect').getInfo()\n",
        "\n",
        "      #print(pd.DataFrame(zip([aspect],[slope])))\n",
        "      slope_data.append(slope_values)\n",
        "      aspect_data.append(aspect_values)\n",
        "  except Exception as e:\n",
        "      df_aspect = pd.DataFrame([aspect_data])\n",
        "      df_slope = pd.DataFrame([slope_data])\n",
        "      df_aspect.to_csv(\"aspect_data_1_miss.csv\")\n",
        "      df_slope.to_csv(\"slope_data_1_miss.csv\")\n",
        "      print(e)\n",
        "\n",
        "  df_aspect = pd.DataFrame([aspect_data])\n",
        "  df_slope = pd.DataFrame([slope_data])\n",
        "  df_aspect.to_csv(\"aspect_data_miss.csv\")\n",
        "  df_slope.to_csv(\"slope_data_miss.csv\")\n",
        "  return df_aspect,df_slope\n",
        "\n",
        "df_aspect_1,df_slope_1 = getSlope(lat,long)"
      ]
    }
  ],
  "metadata": {
    "colab": {
      "provenance": []
    },
    "kernelspec": {
      "display_name": "Python 3",
      "name": "python3"
    },
    "language_info": {
      "name": "python"
    }
  },
  "nbformat": 4,
  "nbformat_minor": 0
}
