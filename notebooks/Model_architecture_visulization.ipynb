{
 "cells": [
  {
   "cell_type": "code",
   "execution_count": null,
   "metadata": {},
   "outputs": [],
   "source": [
    "import pandas as pd\n",
    "import numpy as np\n",
    "import matplotlib.pyplot as plt\n",
    "import seaborn as sns\n",
    "import kerastuner as kt\n",
    "import tensorflow as tf\n",
    "from keras.utils import plot_model"
   ]
  },
  {
   "cell_type": "code",
   "execution_count": 1,
   "metadata": {},
   "outputs": [],
   "source": [
    "import numpy as np"
   ]
  },
  {
   "cell_type": "code",
   "execution_count": null,
   "metadata": {},
   "outputs": [],
   "source": [
    "#create dummy data create a small kerastuner lstm train the model and plot the loss history plot of the best model. Split the data into train and test \n",
    "#and plot the predictions of the test data.\n",
    "\n",
    "# Create dummy data\n",
    "def create_time_series():\n",
    "    x = np.linspace(0, 30, 1000)\n",
    "    y = np.sin(x) + np.random.normal(0, 0.1, 1000)\n",
    "    return x, y\n",
    "\n",
    "x, y = create_time_series()\n",
    "\n",
    "# Create a small LSTM model\n",
    "def model_builder(hp):\n",
    "    model = tf.keras.models.Sequential()\n",
    "    model.add(tf.keras.layers.LSTM(units=hp.Int('units', min_value=32, max_value=512, step=32), input_shape=(1, 1)))\n",
    "    model.add(tf.keras.layers.Dense(128))\n",
    "    model.add(tf.keras.layers.Dense(1))\n",
    "    model.compile(optimizer='adam', loss='mse', metrics=['mae'])\n",
    "    return model\n",
    "\n",
    "tuner = kt.Hyperband(model_builder, objective='val_loss', max_epochs=1, factor=3, directory='./my_dir', project_name='/intro_to_t',overwrite=True)\n",
    "tuner.search(x.reshape(-1, 1, 1), y, epochs=10, validation_split=0.2)\n",
    "\n",
    "best_model = tuner.get_best_models(1)[0]\n",
    "best_model.summary()\n",
    "\n",
    "\n"
   ]
  },
  {
   "cell_type": "code",
   "execution_count": null,
   "metadata": {},
   "outputs": [],
   "source": [
    "tuner_pred = model_tuner.predict(X)\n",
    "model_pred = model.predict(X)\n",
    "\n",
    "for i in range(len(tuner_pred)):\n",
    "    print(tuner_pred[i], model_pred[i])"
   ]
  },
  {
   "cell_type": "code",
   "execution_count": null,
   "metadata": {},
   "outputs": [],
   "source": [
    "from tensorflow.keras.utils import plot_model\n",
    "import graphviz"
   ]
  },
  {
   "cell_type": "code",
   "execution_count": null,
   "metadata": {},
   "outputs": [],
   "source": [
    "import tensorflow as tf\n",
    "from tensorflow.keras.utils import model_to_dot\n",
    "from IPython.display import Image\n",
    "import pydot\n",
    "\n",
    "def plot_model_custom(model, to_file='./model.png', show_shapes=True, show_layer_names=True):\n",
    "    dot = model_to_dot(model, show_shapes=show_shapes, show_layer_names=show_layer_names)\n",
    "    (graph,) = pydot.graph_from_dot_data(dot.to_string())\n",
    "    graph.write_png(to_file)\n",
    "    return Image(to_file)\n",
    "\n",
    "# Example usage\n",
    "model = tf.keras.Sequential([\n",
    "    tf.keras.layers.Dense(10, input_shape=(5,)),\n",
    "    tf.keras.layers.Dense(1)\n",
    "])\n",
    "plot_model_custom(model)"
   ]
  },
  {
   "cell_type": "code",
   "execution_count": null,
   "metadata": {},
   "outputs": [],
   "source": [
    "#from PIL import ImageFont\n",
    "import visualkeras\n",
    "from tensorflow.keras.models import load_model\n",
    "model_cnn1 = load_model('models/cnn_1rst_88acc.h5')\n",
    "model_cnn2 = load_model('models/cnn_daynight_89acc.h5')\n",
    "model_lstm1 = load_model('models/lstm_model_89acc.h5')\n",
    "model_lstm2 = load_model('models/lstm_daynight_90acc.h5')\n"
   ]
  },
  {
   "cell_type": "code",
   "execution_count": null,
   "metadata": {},
   "outputs": [],
   "source": [
    "\n",
    "import os\n",
    "os.environ[\"PATH\"] += os.pathsep + 'C:/Program Files/Graphviz/bin'"
   ]
  },
  {
   "cell_type": "code",
   "execution_count": null,
   "metadata": {},
   "outputs": [],
   "source": [
    "# inp_tuple = (len(model_cnn1.layers),model_cnn1.layers)\n",
    "visualkeras.layered_view(model_cnn1, legend=True,scale_z=0.1,scale_xy=0.02,one_dim_orientation='y',padding=20)\n"
   ]
  },
  {
   "cell_type": "code",
   "execution_count": null,
   "metadata": {},
   "outputs": [],
   "source": [
    "from keras.utils.vis_utils import plot_model \n",
    "plot_model(model_cnn1,show_shapes=True,show_layer_activations=True)"
   ]
  },
  {
   "cell_type": "code",
   "execution_count": null,
   "metadata": {},
   "outputs": [],
   "source": [
    "visualkeras.layered_view(model_cnn2, legend=True,scale_z=0.15,scale_xy=0.1,one_dim_orientation='y',padding=20)"
   ]
  },
  {
   "cell_type": "code",
   "execution_count": null,
   "metadata": {},
   "outputs": [],
   "source": [
    "from keras.utils.vis_utils import plot_model \n",
    "plot_model(model_cnn2,show_shapes=True,show_layer_activations=True)"
   ]
  },
  {
   "cell_type": "code",
   "execution_count": null,
   "metadata": {},
   "outputs": [],
   "source": [
    "visualkeras.layered_view(model_lstm1, legend=True,scale_z=0.2,scale_xy=0.07,one_dim_orientation='y',padding=20)"
   ]
  },
  {
   "cell_type": "code",
   "execution_count": null,
   "metadata": {},
   "outputs": [],
   "source": [
    "#plot model summary but not with .summary() method\n",
    "from keras.utils.vis_utils import plot_model \n",
    "plot_model(model_lstm1,show_shapes=True,show_layer_activations=True)"
   ]
  },
  {
   "cell_type": "code",
   "execution_count": null,
   "metadata": {},
   "outputs": [],
   "source": [
    "visualkeras.layered_view(model_lstm2, legend=True,scale_z=0.3,scale_xy=0.15,one_dim_orientation='y',padding=20)"
   ]
  },
  {
   "cell_type": "code",
   "execution_count": null,
   "metadata": {},
   "outputs": [],
   "source": [
    "#plot model summary but not with .summary() method\n",
    "from keras.utils.vis_utils import plot_model \n",
    "plot_model(model_lstm2,show_shapes=True,show_layer_activations=True)"
   ]
  },
  {
   "cell_type": "code",
   "execution_count": null,
   "metadata": {},
   "outputs": [],
   "source": [
    "model_cnn1.summary()\n",
    "model_cnn2.summary()\n",
    "model_lstm1.summary()\n",
    "model_lstm2.summary()"
   ]
  }
 ],
 "metadata": {
  "kernelspec": {
   "display_name": ".venv",
   "language": "python",
   "name": "python3"
  },
  "language_info": {
   "codemirror_mode": {
    "name": "ipython",
    "version": 3
   },
   "file_extension": ".py",
   "mimetype": "text/x-python",
   "name": "python",
   "nbconvert_exporter": "python",
   "pygments_lexer": "ipython3",
   "version": "3.10.11"
  }
 },
 "nbformat": 4,
 "nbformat_minor": 2
}
