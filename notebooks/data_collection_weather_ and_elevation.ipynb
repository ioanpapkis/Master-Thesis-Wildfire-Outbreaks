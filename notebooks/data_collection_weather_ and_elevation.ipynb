{
 "cells": [
  {
   "cell_type": "code",
   "execution_count": null,
   "id": "79a14ddf",
   "metadata": {},
   "outputs": [],
   "source": [
    "import requests\n",
    "import matplotlib.pyplot as plt \n",
    "from PIL import Image\n",
    "from io import BytesIO\n",
    "import pandas as pd \n",
    "from datetime import datetime, timedelta\n",
    "import datetime\n",
    "import pytz\n",
    "import matplotlib.pyplot as plt\n",
    "#from ratelimit import limits"
   ]
  },
  {
   "cell_type": "code",
   "execution_count": null,
   "id": "71869dca",
   "metadata": {},
   "outputs": [],
   "source": [
    "import tensorflow as tf\n",
    "\n",
    "\n",
    "if tf.test.is_gpu_available():\n",
    "    print('GPU is available')\n",
    "else:\n",
    "    print('GPU is NOT available')\n",
    "\n",
    "print(tf.__version__)"
   ]
  },
  {
   "cell_type": "code",
   "execution_count": null,
   "id": "06d3ccc0",
   "metadata": {},
   "outputs": [],
   "source": [
    "import os\n",
    "from io import BytesIO\n",
    "from skimage import io\n",
    "import requests\n",
    "import json\n",
    "import matplotlib.pyplot as plt\n",
    "import matplotlib.ticker as mticker\n",
    "#import cartopy.crs as ccrs\n",
    "#import cartopy\n",
    "#from cartopy.mpl.gridliner import LONGITUDE_FORMATTER, LATITUDE_FORMATTER\n",
    "import urllib.request\n",
    "import urllib.parse\n",
    "import mapbox_vector_tile\n",
    "import xml.etree.ElementTree as xmlet\n",
    "import lxml.etree as xmltree\n",
    "from PIL import Image as plimg\n",
    "import numpy as np\n",
    "from owslib.wms import WebMapService\n",
    "from IPython.display import Image, display\n",
    "%matplotlib inline"
   ]
  },
  {
   "cell_type": "code",
   "execution_count": null,
   "id": "687a7d06",
   "metadata": {},
   "outputs": [],
   "source": [
    "def convert_to_cet(timestamp : int):\n",
    "    # Convert timestamp to UTC datetime object\n",
    "    datetime_utc = datetime.datetime.utcfromtimestamp(int(timestamp))\n",
    "\n",
    "    # Define UTC timezone\n",
    "    utc_timezone = pytz.timezone('UTC')\n",
    "\n",
    "    # Make datetime_utc aware of UTC timezone\n",
    "    datetime_utc = utc_timezone.localize(datetime_utc)\n",
    "\n",
    "    # Define CET timezone\n",
    "    cet_timezone = pytz.timezone('CET')\n",
    "\n",
    "    # Convert datetime from UTC to CET\n",
    "    datetime_cet = datetime_utc.astimezone(cet_timezone)\n",
    "    \n",
    "    return datetime_cet.strftime('%H:%M:%S')"
   ]
  },
  {
   "cell_type": "code",
   "execution_count": null,
   "id": "fd709c0e",
   "metadata": {},
   "outputs": [],
   "source": [
    "#url = 'https://wvs.earthdata.nasa.gov/api/v1/snapshot?REQUEST=GetSnapshot&LAYERS=MODIS_Terra_CorrectedReflectance_TrueColor,MODIS_Terra_Thermal_Anomalies_Day,Reference_Features_15m&CRS=EPSG:4326&TIME=2023-07-19&WRAP=DAY,DAY,X&BBOX=34.4682,19.1958,42.0973,28.6705&FORMAT=image/jpeg&WIDTH=216&HEIGHT=174&AUTOSCALE=TRUE&ts=1707854243677'\n",
    "\n",
    "\n",
    "def get_url(date):\n",
    "    return 'https://firms.modaps.eosdis.nasa.gov/api/area/csv/7a06ce98ec9ffa8870664c552b909fcc/MODIS_NRT/19.382,34.8,29.667,44/1/'+date\n",
    "\n",
    "def get_firms_modis_data(dateFrom, dateTo,file_save = False): \n",
    "    #greece 19.382,34.8,29.667,44\n",
    "    \n",
    "    \n",
    "    API_KEY = ''\n",
    "    headers = {'Authorization':API_KEY}\n",
    "    resulting_df = pd.DataFrame()\n",
    "    \n",
    "    date = dateFrom\n",
    "    while date <= dateTo:\n",
    "        response = requests.get(get_url(date.strftime('%Y-%m-%d')),headers = headers)\n",
    "        if response.status_code == 200:\n",
    "            # Convert the response content into an image\n",
    "            #img = Image.open(BytesIO(response.content))\n",
    "            df = pd.read_csv(BytesIO(response.content))\n",
    "            \n",
    "            resulting_df = pd.concat([resulting_df,df],axis = 0)\n",
    "            \n",
    "            date += timedelta(days=1)\n",
    "        else:\n",
    "            print(f\"Failed to retrieve the image for date {date}. Status code:\", response.status_code)\n",
    "            date += timedelta(days=1)\n",
    "            continue\n",
    "        \n",
    "    resulting_df['acq_time'] = resulting_df['acq_time'].apply(convert_to_cet)\n",
    "    \n",
    "    if file_save:\n",
    "        resulting_df.to_csv(f\"Modis_data_Greece_{dateFrom.strftime('%Y-%m-%d')}_to_{dateTo.strftime('%Y-%m-%d')}.csv\")\n",
    "        \n",
    "    return resulting_df"
   ]
  },
  {
   "cell_type": "code",
   "execution_count": null,
   "id": "866e08e2",
   "metadata": {},
   "outputs": [],
   "source": [
    "date_start = datetime.datetime(2023,7,1)\n",
    "date_end = datetime.datetime(2023,8,1)\n",
    "#modis_data = get_firms_modis_data(date_start,date_end, file_save = True)\n",
    "#modis_data"
   ]
  },
  {
   "cell_type": "code",
   "execution_count": null,
   "id": "0c699958",
   "metadata": {},
   "outputs": [],
   "source": [
    "modis_df = pd.read_csv('Modis_data_Greece_2023-07-01_to_2023-08-01.csv')\n",
    "modis_df"
   ]
  },
  {
   "cell_type": "code",
   "execution_count": null,
   "id": "79ca9e2d",
   "metadata": {},
   "outputs": [],
   "source": [
    "modis_df['daynight'].value_counts()"
   ]
  },
  {
   "cell_type": "code",
   "execution_count": null,
   "id": "3b8f75cd",
   "metadata": {},
   "outputs": [],
   "source": [
    "plt.hist(modis_df['confidence'], edgecolor='black')\n",
    "plt.title('Confidence Score')\n",
    "plt.xlabel('confidence')\n",
    "plt.ylabel('Number of incidents')"
   ]
  },
  {
   "cell_type": "code",
   "execution_count": null,
   "id": "2bbc86f5",
   "metadata": {},
   "outputs": [],
   "source": [
    "long = modis_df['longitude']\n",
    "lat = modis_df['latitude']\n",
    "\n",
    "wildfire_locations = list(zip(lat,long))\n",
    "\n",
    "# Create a map centered around the first wildfire location\n",
    "map_center = wildfire_locations[0]\n",
    "my_map = folium.Map(location=map_center, zoom_start=4)\n",
    "\n",
    "# Add markers for each wildfire location\n",
    "for location in wildfire_locations:\n",
    "    folium.Marker(location=location, popup=\"Wildfire Location\", icon=folium.Icon(color='red')).add_to(my_map)\n",
    "\n",
    "# Save the map to an HTML file\n",
    "my_map.save(\"wildfire_map.html\")"
   ]
  },
  {
   "cell_type": "markdown",
   "id": "7a93fe12",
   "metadata": {},
   "source": [
    "### Weather Data"
   ]
  },
  {
   "cell_type": "code",
   "execution_count": null,
   "id": "c96247c1",
   "metadata": {},
   "outputs": [],
   "source": [
    "import os\n",
    "import pandas as pd\n",
    "import datetime\n",
    "import pytz\n",
    "import requests\n",
    "from io import BytesIO\n",
    "#from ratelimit import sleep_and_retry, limits"
   ]
  },
  {
   "cell_type": "code",
   "execution_count": null,
   "id": "fec5b791",
   "metadata": {},
   "outputs": [],
   "source": [
    "modis_path = './Modis 2017-2023'\n",
    "virs_path = \"./Virss-snpp 2017-2023\"\n",
    "print(os.listdir(modis_path)) "
   ]
  },
  {
   "cell_type": "code",
   "execution_count": null,
   "id": "e396d8ab",
   "metadata": {},
   "outputs": [],
   "source": [
    "virs_df = pd.DataFrame()\n",
    "\n",
    "for i in os.listdir(virs_path):\n",
    "    df = pd.read_csv(virs_path+'/'+i)\n",
    "    if i == 'viirs-snpp_2021_Greece.csv':\n",
    "        df['acq_date'] = pd.to_datetime(df['acq_date'])\n",
    "        df['acq_date'] = df['acq_date'].apply(lambda x: x.strftime('%Y-%m-%d'))\n",
    "    df['acq_time'] = df['acq_time'].apply(convert_to_cet)\n",
    "    virs_df = pd.concat([virs_df,df],axis = 0)\n",
    "\n"
   ]
  },
  {
   "cell_type": "code",
   "execution_count": null,
   "id": "bb4f96ad",
   "metadata": {},
   "outputs": [],
   "source": [
    "virs_dates = list(virs_df['acq_date'].unique())\n",
    "virs_dates[-1]"
   ]
  },
  {
   "cell_type": "code",
   "execution_count": null,
   "id": "f8c5f40c",
   "metadata": {},
   "outputs": [],
   "source": [
    "url = 'https://archive-api.open-meteo.com/v1/archive?latitude=52.52&longitude=13.41&start_date=2021-12-30&end_date=2021-12-30&daily=temperature_2m_max,temperature_2m_min,temperature_2m_mean,precipitation_sum,wind_speed_10m_max'\n",
    "\n",
    "r = requests.get(url)\n",
    "\n",
    "data = r.json()['daily']\n",
    "data"
   ]
  },
  {
   "cell_type": "code",
   "execution_count": null,
   "id": "87e11e08",
   "metadata": {},
   "outputs": [],
   "source": [
    "r.json()"
   ]
  },
  {
   "cell_type": "code",
   "execution_count": null,
   "id": "3e8ef4a9",
   "metadata": {},
   "outputs": [],
   "source": [
    "long = virs_df['longitude']\n",
    "lat = virs_df['latitude']\n",
    "date = virs_df['acq_date']"
   ]
  },
  {
   "cell_type": "code",
   "execution_count": null,
   "id": "3c97c866",
   "metadata": {},
   "outputs": [],
   "source": [
    "len(long), len(lat), len(date)  "
   ]
  },
  {
   "cell_type": "code",
   "execution_count": null,
   "id": "7711b918",
   "metadata": {},
   "outputs": [],
   "source": [
    "print(long.iloc[0],lat.iloc[0],date.iloc[0])"
   ]
  },
  {
   "cell_type": "code",
   "execution_count": null,
   "id": "058dce7a",
   "metadata": {},
   "outputs": [],
   "source": [
    "missing_weather = pd.read_csv('missing_weather.csv')\n",
    "miss_1 = missing_weather[missing_weather.isnull().any(axis=1)]\n",
    "miss_1#'latitude','longitude','acq_date'"
   ]
  },
  {
   "cell_type": "code",
   "execution_count": null,
   "id": "fe57deba",
   "metadata": {},
   "outputs": [],
   "source": [
    "long = miss_1['longitude']\n",
    "lat = miss_1['latitude']\n",
    "date = miss_1['acq_date']"
   ]
  },
  {
   "cell_type": "code",
   "execution_count": null,
   "id": "1f1defce",
   "metadata": {},
   "outputs": [],
   "source": [
    "\n",
    "\n",
    "final_df = pd.DataFrame()\n",
    "\n",
    "\n",
    "# @sleep_and_retry\n",
    "# @limits(calls=9990, period=600)\n",
    "def getWeatherData(lat,lon,date, final_df):\n",
    "    try:\n",
    "        url = f'https://archive-api.open-meteo.com/v1/archive?latitude={lat}&longitude={lon}&start_date={date}&end_date={date}&daily=temperature_2m_max,temperature_2m_min,temperature_2m_mean,precipitation_sum,wind_speed_10m_max'\n",
    "\n",
    "        r = requests.get(url)\n",
    "        \n",
    "        if 'daily' not in r.json().keys():\n",
    "            return final_df\n",
    "        data = r.json()['daily']\n",
    "\n",
    "        lon_response = r.json()['longitude']\n",
    "        lat_response = r.json()['latitude']\n",
    "        df = pd.DataFrame(data)\n",
    "\n",
    "        df['latitude'] = lat_response\n",
    "        df['longitude'] = lon_response\n",
    "        \n",
    "        final_df = pd.concat([final_df,df],axis = 0)\n",
    "    except Exception as e:\n",
    "        final_df.to_csv('missing_weather_data.csv')\n",
    "        raise e\n",
    "    return final_df\n"
   ]
  },
  {
   "cell_type": "code",
   "execution_count": null,
   "id": "293520a7",
   "metadata": {},
   "outputs": [],
   "source": [
    "for i,j,k in zip(lat,long,date):\n",
    "    \n",
    "    final_df = getWeatherData(i,j,k,final_df)\n",
    "\n",
    "final_df.to_csv('missing_weather_data.csv')\n",
    "\n",
    "\n",
    "final_df\n",
    "#getWeatherData(lat,long,date)"
   ]
  },
  {
   "cell_type": "code",
   "execution_count": null,
   "id": "7f0d9769",
   "metadata": {},
   "outputs": [],
   "source": [
    "dat = getWeatherData(40.636848,22.605183,'2017-01-01',final_df)\n",
    "dat"
   ]
  },
  {
   "cell_type": "code",
   "execution_count": null,
   "id": "5f314b5c",
   "metadata": {},
   "outputs": [],
   "source": [
    "df1 = pd.read_csv('weather_2017-01-01_2019-04-01.csv')\n",
    "time = df1[['time']]\n",
    "time.rename(columns = {'time':'acq_date'},inplace=True)\n",
    "time"
   ]
  },
  {
   "cell_type": "code",
   "execution_count": null,
   "id": "36c2157b",
   "metadata": {},
   "outputs": [],
   "source": [
    "virs_df"
   ]
  },
  {
   "cell_type": "code",
   "execution_count": null,
   "id": "ebe05e4e",
   "metadata": {},
   "outputs": [],
   "source": [
    "time2 = pd.Series(time['acq_date'])\n",
    "time2"
   ]
  },
  {
   "cell_type": "code",
   "execution_count": null,
   "id": "a4a96f6f",
   "metadata": {},
   "outputs": [],
   "source": [
    "time"
   ]
  },
  {
   "cell_type": "code",
   "execution_count": null,
   "id": "5dbc0913",
   "metadata": {},
   "outputs": [],
   "source": [
    "virs_df.index = virs_df['acq_date']\n",
    "virs2 = virs_df[-virs_df['acq_date'].isin(time2)]"
   ]
  },
  {
   "cell_type": "code",
   "execution_count": null,
   "id": "c060b1e6",
   "metadata": {},
   "outputs": [],
   "source": [
    "lat_2 = virs2['latitude']\n",
    "lon_2 = virs2['longitude']\n",
    "date_2 = virs2['acq_date']"
   ]
  },
  {
   "cell_type": "code",
   "execution_count": null,
   "id": "1b1cc8ca",
   "metadata": {},
   "outputs": [],
   "source": [
    "time"
   ]
  },
  {
   "cell_type": "code",
   "execution_count": null,
   "id": "430fe258",
   "metadata": {},
   "outputs": [],
   "source": [
    "import pandas as pd\n",
    "df1 = pd.read_csv(r')\n",
    "time2 = df1[['time']]\n",
    "time2.rename(columns = {'time':'acq_date'} ,inplace=True)\n",
    "time2"
   ]
  },
  {
   "cell_type": "code",
   "execution_count": null,
   "id": "f279074d",
   "metadata": {},
   "outputs": [],
   "source": [
    "time2"
   ]
  },
  {
   "cell_type": "code",
   "execution_count": null,
   "id": "f6e58557",
   "metadata": {},
   "outputs": [],
   "source": [
    "virs_df.index = virs_df['acq_date']\n",
    "virs2 = virs_df[~virs_df.index.isin(time)]"
   ]
  },
  {
   "cell_type": "code",
   "execution_count": null,
   "id": "cb2e7bf0",
   "metadata": {},
   "outputs": [],
   "source": [
    "time2"
   ]
  },
  {
   "cell_type": "code",
   "execution_count": null,
   "id": "fab88e9e",
   "metadata": {},
   "outputs": [],
   "source": [
    "virs_df.index = virs_df['acq_date']\n",
    "virs_df"
   ]
  },
  {
   "cell_type": "code",
   "execution_count": null,
   "id": "321bc0ee",
   "metadata": {},
   "outputs": [],
   "source": [
    "virs_df"
   ]
  },
  {
   "cell_type": "code",
   "execution_count": null,
   "id": "3874a8e7",
   "metadata": {},
   "outputs": [],
   "source": [
    "t = virs_df.loc[virs_df.index >= pd.Timestamp('2021-10-01')]\n",
    "t"
   ]
  },
  {
   "cell_type": "code",
   "execution_count": null,
   "id": "751a70ec",
   "metadata": {},
   "outputs": [],
   "source": [
    "lat_4 = t['latitude']\n",
    "lon_4 = t['longitude']\n",
    "date_4 = t['acq_date']"
   ]
  },
  {
   "cell_type": "markdown",
   "id": "c03c1d26",
   "metadata": {},
   "source": [
    "### NDVI Copernicus"
   ]
  },
  {
   "cell_type": "code",
   "execution_count": null,
   "id": "7cfce869",
   "metadata": {},
   "outputs": [],
   "source": [
    "import requests\n",
    "import pandas as pd\n",
    "import json\n",
    "import jwt\n",
    "import time\n",
    "import io"
   ]
  },
  {
   "cell_type": "code",
   "execution_count": null,
   "id": "94cf125a",
   "metadata": {},
   "outputs": [],
   "source": [
    "dataset_id = '5d5f72ce-80bc-4c90-80ed-f135596533e2'\n",
    "token = ''\n",
    "ndvi_req = requests.get(f'https://land.copernicus.eu/@@oauth2-token?dataset_uid={dataset_id}&download_information_id=2c51dd60-0e70-4ff8-88c0-bd8cb6c58123', \n",
    "             headers={'Accept': 'application/json', 'Authorization': f'{token}'})\n",
    "\n",
    "\n",
    "ndvi_req.content"
   ]
  },
  {
   "cell_type": "code",
   "execution_count": null,
   "id": "d9287028",
   "metadata": {},
   "outputs": [],
   "source": [
    "private_key = service_key['private_key'].encode('utf-8')\n",
    "\n",
    "claim_set = {\n",
    "    \"iss\": service_key['client_id'],\n",
    "    \"sub\": service_key['user_id'],\n",
    "    \"aud\": service_key['token_uri'],\n",
    "    \"iat\": int(time.time()),\n",
    "    \"exp\": int(time.time() + (60 * 60)),\n",
    "}\n",
    "grant = jwt.encode(claim_set, private_key, algorithm='RS256')"
   ]
  },
  {
   "cell_type": "code",
   "execution_count": null,
   "id": "76f68eb0",
   "metadata": {},
   "outputs": [],
   "source": [
    "result = requests.post(\n",
    "        service_key[\"token_uri\"],\n",
    "        headers={\n",
    "            \"Accept\": \"application/json\",\n",
    "            \"Content-Type\": \"application/x-www-form-urlencoded\",\n",
    "        },\n",
    "        data={\n",
    "            \"grant_type\": \"urn:ietf:params:oauth:grant-type:jwt-bearer\",\n",
    "            \"assertion\": grant,\n",
    "        },\n",
    ")\n",
    "\n",
    "access_token_info_json = result.json()\n",
    "access_token = access_token_info_json.get('access_token')\n",
    "print(access_token)"
   ]
  },
  {
   "cell_type": "code",
   "execution_count": null,
   "id": "384c409a",
   "metadata": {},
   "outputs": [],
   "source": [
    "base_url = 'https://land.copernicus.eu'\n",
    "\n",
    "dataset_id = '5d5f72ce-80bc-4c90-80ed-f135596533e2'\n",
    "\n",
    "url_download_prepackaged = f\"{base_url}/api/@datarequest_post\"\n",
    "headers = {'Accept': 'application/json', 'Authorization': f'Bearer {access_token}'}\n",
    "data = {'Datasets': [\n",
    "    {\n",
    "     'DatasetID': 'af077469527848f7a0fc8b220589fef1',\n",
    "     'FileId': 'c20db9cf-cb81-4b87-be26-7d5bf224d7f8'\n",
    "    }\n",
    "]}\n",
    "\n",
    "#print(url_download_prepackaged)\n",
    "response_download_prepackaged = requests.post(url_download_prepackaged, headers=headers, json=data)\n",
    "response_download_prepackaged.json()"
   ]
  },
  {
   "cell_type": "code",
   "execution_count": null,
   "id": "ac98be35",
   "metadata": {},
   "outputs": [],
   "source": [
    "url_downloadable_prepackaged = f\"{base_url}/api/@search?portal_type=DataSet&metadata_fields=UID&metadata_fields=downloadable_files\"\n",
    "headers = {'Accept': 'application/json', 'Authorization': f'Bearer {access_token}'}\n",
    "response_downloadable_prepackaged = requests.get(url_downloadable_prepackaged, headers=headers)\n",
    "\n",
    "json_downloadable_prepackaged = response_downloadable_prepackaged.json()\n",
    "\n",
    "ndvi_global_dataset = 'https://land.copernicus.eu/api/en/products/vegetation/normalised-difference-vegetation-short-term-statistics-v3-0-1km'\n",
    "\n",
    "for item in json_downloadable_prepackaged.get('items', []):\n",
    "    print(item['@id'])\n",
    "    # if item['@id'] == ndvi_global_dataset:\n",
    "    #     print('Product information:')\n",
    "    #     print('\\n')\n",
    "    #     print(3*' '+'Product title: \"'+ item['title'].replace(':','')+'\"')\n",
    "    #     print(3*' '+'UID: \"'+item['UID'].replace(' ','')+'\"')\n",
    "    #     print(3*' '+'Product link: '+ item['@id']+'')\n",
    "    #     print('\\n')\n",
    "        \n",
    "    #     for downloadable_file in item.get('downloadable_files', {}).get('items', []):\n",
    "    #         print('Download option for \"'+item['title'].replace(':','')+'\":')\n",
    "    #         display(downloadable_file)\n",
    "    #         print(2*'\\n')\n",
    "\n",
    "    #     print('\\n')\n",
    "    #     print(100*'_')\n",
    "    #     break"
   ]
  },
  {
   "cell_type": "markdown",
   "id": "f52cc7d8",
   "metadata": {},
   "source": [
    "### Elevation & Slope"
   ]
  },
  {
   "cell_type": "code",
   "execution_count": null,
   "id": "ba59f795",
   "metadata": {},
   "outputs": [],
   "source": [
    "import requests\n",
    "import pandas as pd "
   ]
  },
  {
   "cell_type": "code",
   "execution_count": null,
   "id": "aaec2168",
   "metadata": {},
   "outputs": [],
   "source": [
    "merged_df = pd.read_csv(r'C:\\Users\\johnp\\OneDrive\\Υπολογιστής\\IHU\\Thesis\\merged_data.csv')\n",
    "missing_elevation =merged_df[['elevation','longitude','latitude']]"
   ]
  },
  {
   "cell_type": "code",
   "execution_count": null,
   "id": "7ba7d0e4",
   "metadata": {},
   "outputs": [],
   "source": [
    "miss_el = missing_elevation[missing_elevation.isnull().any(axis=1)]\n",
    "miss_el\n"
   ]
  },
  {
   "cell_type": "code",
   "execution_count": null,
   "id": "d4da3588",
   "metadata": {},
   "outputs": [],
   "source": [
    "long = miss_el['longitude']\n",
    "lat = miss_el['latitude']"
   ]
  },
  {
   "cell_type": "code",
   "execution_count": null,
   "id": "185d75c3",
   "metadata": {},
   "outputs": [],
   "source": [
    "long_lat = list(zip(lat,long))\n",
    "lat_long_df = pd.DataFrame(long_lat,columns = ['latitude','longitude'])"
   ]
  },
  {
   "cell_type": "code",
   "execution_count": null,
   "id": "f9d82ee8",
   "metadata": {},
   "outputs": [],
   "source": [
    "lat_long_df"
   ]
  },
  {
   "cell_type": "code",
   "execution_count": null,
   "id": "71420ec7",
   "metadata": {},
   "outputs": [],
   "source": [
    "unique_coords = df[['latitude', 'longitude']].drop_duplicates().values.tolist()\n",
    "len(unique_coords)\n"
   ]
  },
  {
   "cell_type": "code",
   "execution_count": null,
   "id": "0b2d6b24",
   "metadata": {},
   "outputs": [],
   "source": [
    "pd.DataFrame(unique_coords, columns=['latitude', 'longitude']).to_csv('unique_coords.csv', index=False)"
   ]
  },
  {
   "cell_type": "code",
   "execution_count": null,
   "id": "7cba5d35",
   "metadata": {},
   "outputs": [],
   "source": [
    "unique_coords[0][0]"
   ]
  },
  {
   "cell_type": "code",
   "execution_count": null,
   "id": "c41763c2",
   "metadata": {},
   "outputs": [],
   "source": [
    "\n",
    "def getElevationData(latitude, longitude, data_list):\n",
    "    \n",
    "    try:\n",
    "        url = f'https://api.open-meteo.com/v1/elevation?latitude={latitude}&longitude={longitude}'\n",
    "\n",
    "        r = requests.get(url)\n",
    "\n",
    "        data = r.json()\n",
    "        data_list.append(data['elevation'][0])\n",
    "        \n",
    "    except Exception as e:\n",
    "        df = pd.DataFrame(data_list)\n",
    "        df.to_csv('missing_elevation.csv')\n",
    "        print(e)"
   ]
  },
  {
   "cell_type": "code",
   "execution_count": null,
   "id": "b2fed970",
   "metadata": {},
   "outputs": [],
   "source": [
    "el_1 = pd.read_csv('elevation.csv')\n",
    "el_1_count = el_1.shape[0]\n",
    "el_1_count"
   ]
  },
  {
   "cell_type": "code",
   "execution_count": null,
   "id": "00b6948a",
   "metadata": {},
   "outputs": [],
   "source": [
    "unique_coords_2 = unique_coords[el_1_count:]\n",
    "len(unique_coords_2) "
   ]
  },
  {
   "cell_type": "code",
   "execution_count": null,
   "id": "3a169855",
   "metadata": {},
   "outputs": [],
   "source": [
    "elevation_list = []\n",
    "\n",
    "for x,y in zip(lat,long):\n",
    "    getElevationData(x,y, elevation_list)\n",
    "\n",
    "elevation_df = pd.DataFrame(elevation_list)\n",
    "\n",
    "elevation_df.to_csv('missing_elevation.csv')"
   ]
  },
  {
   "cell_type": "code",
   "execution_count": null,
   "id": "64187952",
   "metadata": {},
   "outputs": [],
   "source": [
    "elevation_df.shape[0] + el_1.shape[0]"
   ]
  },
  {
   "cell_type": "code",
   "execution_count": null,
   "id": "6d95d9b1",
   "metadata": {},
   "outputs": [],
   "source": [
    "missing_slope = merged_df[['longitude','latitude','slope','aspect']]\n",
    "miss_3 = missing_slope[missing_slope.isnull().any(axis=1)]\n",
    "miss_3.to_csv('missing_slope.csv',index=False)"
   ]
  },
  {
   "cell_type": "code",
   "execution_count": null,
   "id": "ae3f3370",
   "metadata": {},
   "outputs": [],
   "source": [
    "elevation_df = pd.DataFrame(elevation_list)\n",
    "\n",
    "elevation_df.to_csv('elevation.csv')"
   ]
  }
 ],
 "metadata": {
  "kernelspec": {
   "display_name": "Python 3 (ipykernel)",
   "language": "python",
   "name": "python3"
  },
  "language_info": {
   "codemirror_mode": {
    "name": "ipython",
    "version": 3
   },
   "file_extension": ".py",
   "mimetype": "text/x-python",
   "name": "python",
   "nbconvert_exporter": "python",
   "pygments_lexer": "ipython3",
   "version": "3.12.0"
  }
 },
 "nbformat": 4,
 "nbformat_minor": 5
}
